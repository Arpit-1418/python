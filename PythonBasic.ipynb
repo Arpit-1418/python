{
  "nbformat": 4,
  "nbformat_minor": 0,
  "metadata": {
    "colab": {
      "provenance": []
    },
    "kernelspec": {
      "name": "python3",
      "display_name": "Python 3"
    },
    "language_info": {
      "name": "python"
    }
  },
  "cells": [
    {
      "cell_type": "markdown",
      "source": [
        "Python Basic\n",
        "\n",
        "\n",
        "\n",
        " 1. What is Python, and why is it popular?\n",
        "    ->Python is a high-level, interpreted, general-purpose programming language known for its simplicity, readability, and versatility. It was created by Guido van Rossum and first released in 1991.\n",
        "    Its support multiprrogramming paradigm like OOPs (Obect Orienteed Programming and Python have reach libaries.\n",
        "2.  What is an interpreter in Python?\n",
        "    ->An interpreter in Python is a program that reads and executes Python code line by line, instead of compiling the entire program into machine code beforehand (like C or C++ compilers do).\n",
        "3.  What are pre-defined keywords in Python?\n",
        "    ->Pre-defined keywords in Python are reserved words that have a special meaning to the Python interpreter.\n",
        "    You cannot use them as variable names, function names, or identifiers — because Python uses them to define its syntax and rules.\n",
        "4.  Can keywords be used as variable name?\n",
        "    ->The answer is,No keywords cannot be used as variable names in Python.\n",
        "5.   What is mutability in Python?\n",
        "    -> In Python, mutability means the ability of an object to be changed after it is created. If an object’s value can be modified, it is called mutable (like lists, dictionaries, and sets). If it cannot be changed, it is called immutable (like strings, tuples, and numbers). For example, you can add or remove elements from a list, but you cannot change characters inside a string once it’s created.\n",
        "6.  Why are lists mutable, but tuples are immutable?\n",
        "    -> In Python, lists are mutable because they are designed to allow changes — you can add, remove, or modify elements after the list is created. This makes lists flexible and suitable for situations where data needs to be updated frequently.\n",
        "    On the other hand, tuples are immutable, meaning their elements cannot be changed once created. This design helps keep data safe and consistent, ensuring that values inside a tuple remain fixed. Python makes tuples immutable to improve performance and reliability, especially when used as dictionary keys or in sets where immutability is required.\n",
        "7.  What is the difference between “==” and “is” operators in Python?\n",
        "    ->In Python, the == operator compares the values of two objects to check if they are equal, while the 'is' operator checks whether two variables refer to the same object in memory. For example, two lists with the same elements may return `True` with `==` because their values are equal, but `False` with `is` because they are stored at different memory locations. In short, `==` checks for value equality, and `is` checks for object identity.\n",
        "8.   What are logical operators in Python?\n",
        "    ->In Python, logical operators are used to combine or modify conditions and return a Boolean value (True or False). The three main logical operators are and, or, and not. The and operator returns True only if both conditions are true, or returns True if at least one condition is true, and not reverses the result of a condition. These operators are commonly used in decision-making to control the flow of a program based on multiple conditions.\n",
        "\n",
        "9.   What is type casting in Python?\n",
        "    ->In Python, type casting is the process of converting a value from one data type to another. It allows you to change the type of a variable so it can be used in different operations. For example, you can convert a string \"10\" to an integer 10, or an integer 5 to a float 5.0. Python provides built-in functions for type casting such as int(), float(), str(), and bool(). Type casting is useful when you need to perform operations that require compatible data types.\n",
        "10.   What is the difference between implicit and explicit type casting?\n",
        "    ->In Python, implicit type casting occurs automatically when the interpreter converts one data type to another without user intervention, such as adding an integer and a float where the integer is converted to float. Explicit type casting, on the other hand, is done manually by the programmer using built-in functions like int(), float(), or str() to convert a value from one type to another. In short, implicit casting is automatic, while explicit casting requires deliberate action.\n",
        "11. What is the purpose of conditional statements in Python?\n",
        "    ->In Python, the **purpose of conditional statements** is to **control the flow of a program** by making decisions based on certain conditions. They allow the program to execute specific blocks of code only when a condition is true, and optionally execute other blocks when the condition is false. Python provides conditional statements like `if`, `elif`, and `else` to handle different scenarios. Using these statements, programs can respond dynamically to different inputs or situations, making them more flexible and intelligent.\n",
        "12.  How does the elif statement work?\n",
        "    ->In Python, the elif statement stands for “else if” and is used to check multiple conditions in a sequence after an initial if statement. When Python encounters an if statement, it evaluates the condition: if it is True, the corresponding block of code runs and the rest of the conditions are skipped. If the if condition is False, Python moves to the elif condition and checks it. You can have multiple elif statements, and if none of the if or elif conditions are true, the optional else block executes. This allows a program to handle several possible scenarios in a structured way.\n",
        "13. What is the difference between for and while loops?\n",
        "    ->In Python, a `for` loop is used to repeat a block of code a fixed number of times by iterating over a sequence like a list, tuple, string, or range, making it ideal when the number of iterations is known. A `while` loop, on the other hand, repeats a block of code as long as a specified condition is true, making it useful when the number of iterations depends on a condition rather than a fixed count. In short, `for` loops are sequence-based, while `while` loops are condition-based.\n",
        "\n",
        "14. Describe a scenario where a while loop is more suitable than a for loop?\n",
        "    ->A while loop is more suitable than a for loop when the number of iterations is not known in advance and depends on a dynamic condition that can change during program execution.\n",
        "\n"
      ],
      "metadata": {
        "id": "GNyxscB2DR9h"
      }
    },
    {
      "cell_type": "code",
      "execution_count": null,
      "metadata": {
        "colab": {
          "base_uri": "https://localhost:8080/"
        },
        "id": "iVPsP8GmCvAr",
        "outputId": "f5bd0a99-8131-43f0-9dcd-b1f66622e9fd"
      },
      "outputs": [
        {
          "output_type": "stream",
          "name": "stdout",
          "text": [
            "Hello, World!\n"
          ]
        }
      ],
      "source": [
        "# Practical Questions\n",
        "# 1.Write a Python program to print \"Hello, World!\n",
        "print(\"Hello, World!\")\n",
        "\n"
      ]
    },
    {
      "cell_type": "code",
      "source": [
        "# 2.write a Python program that displays your name and age\n",
        "name=\"Arpit kishan\"\n",
        "age=21\n",
        "print(f\"My name is {name} and i am {age} old.\")"
      ],
      "metadata": {
        "colab": {
          "base_uri": "https://localhost:8080/"
        },
        "id": "EPISvLnjKntb",
        "outputId": "3821da1f-0f15-4775-b66e-a84e49760df4"
      },
      "execution_count": null,
      "outputs": [
        {
          "output_type": "stream",
          "name": "stdout",
          "text": [
            "My name is Arpit kishan and i am 21 old.\n"
          ]
        }
      ]
    },
    {
      "cell_type": "code",
      "source": [
        "#3. Write code to print all the pre-defined keywords in Python using the keyword library\n",
        "\n",
        "help(\"keywords\")"
      ],
      "metadata": {
        "id": "9td9Jh_mLNpm"
      },
      "execution_count": null,
      "outputs": []
    },
    {
      "cell_type": "code",
      "source": [
        "# 4.  Write a program that checks if a given word is a Python keyword\n",
        "\n",
        "import keyword\n",
        "word = input(\"Enter a word: \")\n",
        "if keyword.iskeyword(word):\n",
        "    print(f\"'{word}' is a Python keyword.\")\n",
        "else:\n",
        "    print(f\"'{word}' is NOT a Python keyword.\")\n"
      ],
      "metadata": {
        "id": "tU0DGnsWLzyK"
      },
      "execution_count": null,
      "outputs": []
    },
    {
      "cell_type": "code",
      "source": [
        "#5. Create a list and tuple in Python, and demonstrate how attempting to change an element works differently for each.\n",
        "my_list = [10, 20, 30]\n",
        "my_tuple = (10, 20, 30)\n",
        "\n",
        "# Modifying an element in the list\n",
        "my_list[1] = 200\n",
        "print(\"Modified list:\", my_list)\n",
        "\n",
        "\n",
        "# my_tuple is immutable the value of tuple can't change."
      ],
      "metadata": {
        "id": "xtXMCfjHNCgI"
      },
      "execution_count": null,
      "outputs": []
    },
    {
      "cell_type": "code",
      "source": [
        "#6. Write a function to demonstrate the behavior of mutable and immutable arguments.\n",
        "num1 = 10\n",
        "num2 = num1\n",
        "num2 += 5\n",
        "\n",
        "print(\"Immutable Example (int):\")\n",
        "print(\"num1 =\", num1)\n",
        "print(\"num2 =\", num2)\n",
        "\n",
        "list1 = [1, 2, 3]\n",
        "list2 = list1\n",
        "list2.append(4)\n",
        "\n",
        "print(\"\\nMutable Example (list):\")\n",
        "print(\"list1 =\", list1)\n",
        "print(\"list2 =\", list2)\n"
      ],
      "metadata": {
        "colab": {
          "base_uri": "https://localhost:8080/"
        },
        "id": "wTJ7QkYUSgxb",
        "outputId": "071b65fc-3f2b-4287-8d9f-58ffaace55d4"
      },
      "execution_count": 28,
      "outputs": [
        {
          "output_type": "stream",
          "name": "stdout",
          "text": [
            "Immutable Example (int):\n",
            "num1 = 10\n",
            "num2 = 15\n",
            "\n",
            "Mutable Example (list):\n",
            "list1 = [1, 2, 3, 4]\n",
            "list2 = [1, 2, 3, 4]\n"
          ]
        }
      ]
    },
    {
      "cell_type": "markdown",
      "source": [],
      "metadata": {
        "id": "FyTWF0vrSgT8"
      }
    },
    {
      "cell_type": "code",
      "source": [
        "#7. Write a program that performs basic arithmetic operations on two user-input numbers\n",
        "num1=int(input(\"Enter first number: \"))\n",
        "num2=int(input(\"Enter second number: \"))\n",
        "\n",
        "\n",
        "Addition=num1+num2\n",
        "Subtraction=num1-num2\n",
        "Multiplication=num1*num2\n",
        "Division=num1/num2\n",
        "\n",
        "print(  f\"Addition of {num1} and {num2} is {Addition}\")\n",
        "print(  f\"Subtraction of {num1} and {num2} is {Subtraction}\")\n",
        "print(  f\"Multiplication of {num1} and {num2} is {Multiplication}\")\n",
        "print(  f\"Division of {num1} and {num2} is {Division}\")\n"
      ],
      "metadata": {
        "colab": {
          "base_uri": "https://localhost:8080/"
        },
        "id": "soHf0Y1-Sqij",
        "outputId": "a5cb15be-2d7c-476d-ce88-7461f421a0f4"
      },
      "execution_count": 3,
      "outputs": [
        {
          "output_type": "stream",
          "name": "stdout",
          "text": [
            "Enter first number: 6\n",
            "Enter second number: 2\n",
            "Addition of 6 and 2 is 8\n",
            "Subtraction of 6 and 2 is 4\n",
            "Multiplication of 6 and 2 is 12\n",
            "Division of 6 and 2 is 3.0\n"
          ]
        }
      ]
    },
    {
      "cell_type": "code",
      "source": [
        "#  8. Write a program to demonstrate the use of logical operators.\n",
        "a=5\n",
        "b=10\n",
        "\n",
        "print(\"Result\")\n",
        "\n",
        "print(\"a > 0 and b > 0:\", a > 0 and b > 0)\n",
        "print(\"a > 0 or b > 0:\", a > 0 or b > 0)\n",
        "print(\"not(a > 0):\", not(a > 0))\n"
      ],
      "metadata": {
        "colab": {
          "base_uri": "https://localhost:8080/"
        },
        "id": "UZhApf7FTYtD",
        "outputId": "26820a8f-52f2-4b60-e037-4b4a3f25c515"
      },
      "execution_count": 6,
      "outputs": [
        {
          "output_type": "stream",
          "name": "stdout",
          "text": [
            "Result\n",
            "a > 0 and b > 0: True\n",
            "a > 0 or b > 0: True\n",
            "not(a > 0): False\n"
          ]
        }
      ]
    },
    {
      "cell_type": "code",
      "source": [
        " # 9. Write a Python program to convert user input from string to integer, float, and boolean types.\n",
        "\n",
        "user=input(\"Enetr the value::\")\n",
        "\n",
        "print(\"as Interger:\",int(user))\n",
        "print(\"as Float:\",float(user))\n",
        "print(\"as Boolean:\",bool(user))"
      ],
      "metadata": {
        "colab": {
          "base_uri": "https://localhost:8080/",
          "height": 356
        },
        "id": "tcctL5hAU9Cd",
        "outputId": "fb2251bd-b328-441e-bd70-90941315ddd2"
      },
      "execution_count": 11,
      "outputs": [
        {
          "output_type": "error",
          "ename": "KeyboardInterrupt",
          "evalue": "Interrupted by user",
          "traceback": [
            "\u001b[0;31m---------------------------------------------------------------------------\u001b[0m",
            "\u001b[0;31mKeyboardInterrupt\u001b[0m                         Traceback (most recent call last)",
            "\u001b[0;32m/tmp/ipython-input-1836072936.py\u001b[0m in \u001b[0;36m<cell line: 0>\u001b[0;34m()\u001b[0m\n\u001b[1;32m      1\u001b[0m \u001b[0;31m# 9. Write a Python program to convert user input from string to integer, float, and boolean types.\u001b[0m\u001b[0;34m\u001b[0m\u001b[0;34m\u001b[0m\u001b[0m\n\u001b[1;32m      2\u001b[0m \u001b[0;34m\u001b[0m\u001b[0m\n\u001b[0;32m----> 3\u001b[0;31m \u001b[0muser\u001b[0m\u001b[0;34m=\u001b[0m\u001b[0minput\u001b[0m\u001b[0;34m(\u001b[0m\u001b[0;34m\"Enetr the value::\"\u001b[0m\u001b[0;34m)\u001b[0m\u001b[0;34m\u001b[0m\u001b[0;34m\u001b[0m\u001b[0m\n\u001b[0m\u001b[1;32m      4\u001b[0m \u001b[0;34m\u001b[0m\u001b[0m\n\u001b[1;32m      5\u001b[0m \u001b[0mprint\u001b[0m\u001b[0;34m(\u001b[0m\u001b[0;34m\"as Interger:\"\u001b[0m\u001b[0;34m,\u001b[0m\u001b[0mint\u001b[0m\u001b[0;34m(\u001b[0m\u001b[0muser\u001b[0m\u001b[0;34m)\u001b[0m\u001b[0;34m)\u001b[0m\u001b[0;34m\u001b[0m\u001b[0;34m\u001b[0m\u001b[0m\n",
            "\u001b[0;32m/usr/local/lib/python3.12/dist-packages/ipykernel/kernelbase.py\u001b[0m in \u001b[0;36mraw_input\u001b[0;34m(self, prompt)\u001b[0m\n\u001b[1;32m   1175\u001b[0m                 \u001b[0;34m\"raw_input was called, but this frontend does not support input requests.\"\u001b[0m\u001b[0;34m\u001b[0m\u001b[0;34m\u001b[0m\u001b[0m\n\u001b[1;32m   1176\u001b[0m             )\n\u001b[0;32m-> 1177\u001b[0;31m         return self._input_request(\n\u001b[0m\u001b[1;32m   1178\u001b[0m             \u001b[0mstr\u001b[0m\u001b[0;34m(\u001b[0m\u001b[0mprompt\u001b[0m\u001b[0;34m)\u001b[0m\u001b[0;34m,\u001b[0m\u001b[0;34m\u001b[0m\u001b[0;34m\u001b[0m\u001b[0m\n\u001b[1;32m   1179\u001b[0m             \u001b[0mself\u001b[0m\u001b[0;34m.\u001b[0m\u001b[0m_parent_ident\u001b[0m\u001b[0;34m[\u001b[0m\u001b[0;34m\"shell\"\u001b[0m\u001b[0;34m]\u001b[0m\u001b[0;34m,\u001b[0m\u001b[0;34m\u001b[0m\u001b[0;34m\u001b[0m\u001b[0m\n",
            "\u001b[0;32m/usr/local/lib/python3.12/dist-packages/ipykernel/kernelbase.py\u001b[0m in \u001b[0;36m_input_request\u001b[0;34m(self, prompt, ident, parent, password)\u001b[0m\n\u001b[1;32m   1217\u001b[0m             \u001b[0;32mexcept\u001b[0m \u001b[0mKeyboardInterrupt\u001b[0m\u001b[0;34m:\u001b[0m\u001b[0;34m\u001b[0m\u001b[0;34m\u001b[0m\u001b[0m\n\u001b[1;32m   1218\u001b[0m                 \u001b[0;31m# re-raise KeyboardInterrupt, to truncate traceback\u001b[0m\u001b[0;34m\u001b[0m\u001b[0;34m\u001b[0m\u001b[0m\n\u001b[0;32m-> 1219\u001b[0;31m                 \u001b[0;32mraise\u001b[0m \u001b[0mKeyboardInterrupt\u001b[0m\u001b[0;34m(\u001b[0m\u001b[0;34m\"Interrupted by user\"\u001b[0m\u001b[0;34m)\u001b[0m \u001b[0;32mfrom\u001b[0m \u001b[0;32mNone\u001b[0m\u001b[0;34m\u001b[0m\u001b[0;34m\u001b[0m\u001b[0m\n\u001b[0m\u001b[1;32m   1220\u001b[0m             \u001b[0;32mexcept\u001b[0m \u001b[0mException\u001b[0m\u001b[0;34m:\u001b[0m\u001b[0;34m\u001b[0m\u001b[0;34m\u001b[0m\u001b[0m\n\u001b[1;32m   1221\u001b[0m                 \u001b[0mself\u001b[0m\u001b[0;34m.\u001b[0m\u001b[0mlog\u001b[0m\u001b[0;34m.\u001b[0m\u001b[0mwarning\u001b[0m\u001b[0;34m(\u001b[0m\u001b[0;34m\"Invalid Message:\"\u001b[0m\u001b[0;34m,\u001b[0m \u001b[0mexc_info\u001b[0m\u001b[0;34m=\u001b[0m\u001b[0;32mTrue\u001b[0m\u001b[0;34m)\u001b[0m\u001b[0;34m\u001b[0m\u001b[0;34m\u001b[0m\u001b[0m\n",
            "\u001b[0;31mKeyboardInterrupt\u001b[0m: Interrupted by user"
          ]
        }
      ]
    },
    {
      "cell_type": "code",
      "source": [
        " # 10. Write code to demonstrate type casting with list elements\n",
        " lis=[\"10\",\"20\",\"30\",\"40\"]\n",
        "\n",
        " print(\"value of string is\",lis)\n",
        " print(\"value of string is\",[int(i) for i in lis])\n",
        " print(\"value of string is\",[float(i) for i in lis])\n",
        " print(\"value of string is\",[bool(i) for i in lis])"
      ],
      "metadata": {
        "colab": {
          "base_uri": "https://localhost:8080/"
        },
        "id": "WRpiEt19W3xr",
        "outputId": "4eda70fc-9bd5-40bf-93d2-a160e502fd56"
      },
      "execution_count": 15,
      "outputs": [
        {
          "output_type": "stream",
          "name": "stdout",
          "text": [
            "value of string is ['10', '20', '30', '40']\n",
            "value of string is [10, 20, 30, 40]\n",
            "value of string is [10.0, 20.0, 30.0, 40.0]\n",
            "value of string is [True, True, True, True]\n"
          ]
        }
      ]
    },
    {
      "cell_type": "code",
      "source": [
        "# 11. Write a program that checks if a number is positive, negative, or zero.\n",
        "user=int(input(\"Enter the value:\"))\n",
        "if user>0:\n",
        "    print(\"Number is positive\")\n",
        "elif user<0:\n",
        "    print(\"Number is negative\")\n",
        "else:\n",
        "    print(\"Number is zero\")\n"
      ],
      "metadata": {
        "colab": {
          "base_uri": "https://localhost:8080/"
        },
        "id": "Q9q63sc8X_56",
        "outputId": "debcd20f-eb65-4af8-c4c0-978d84d85b68"
      },
      "execution_count": 16,
      "outputs": [
        {
          "output_type": "stream",
          "name": "stdout",
          "text": [
            "Enter the value:45\n",
            "Number is positive\n"
          ]
        }
      ]
    },
    {
      "cell_type": "markdown",
      "source": [],
      "metadata": {
        "id": "IlVvsQY5YCLe"
      }
    },
    {
      "cell_type": "code",
      "source": [
        "# 2. Write a for loop to print numbers from 1 to 10.\n",
        "\n",
        "for i in range(1,11):\n",
        "  print(i)"
      ],
      "metadata": {
        "colab": {
          "base_uri": "https://localhost:8080/"
        },
        "id": "OO889wIyYagW",
        "outputId": "76a71f93-43f2-4208-cab5-1a4b2227cb09"
      },
      "execution_count": 19,
      "outputs": [
        {
          "output_type": "stream",
          "name": "stdout",
          "text": [
            "1\n",
            "2\n",
            "3\n",
            "4\n",
            "5\n",
            "6\n",
            "7\n",
            "8\n",
            "9\n",
            "10\n"
          ]
        }
      ]
    },
    {
      "cell_type": "code",
      "source": [
        "#  13. Write a Python program to find the sum of all even numbers between 1 and 50\n",
        "total=0\n",
        "for i in range (1,51):\n",
        "  if i%2==0:\n",
        "\n",
        "    total=total+i\n",
        "\n",
        "print(\"the total sum of num between 1 to 50 is \",total)\n",
        ""
      ],
      "metadata": {
        "colab": {
          "base_uri": "https://localhost:8080/"
        },
        "id": "QmsVlSfcY7E5",
        "outputId": "411def88-dfe7-4933-ef50-28bf348a5e14"
      },
      "execution_count": 34,
      "outputs": [
        {
          "output_type": "stream",
          "name": "stdout",
          "text": [
            "the total sum of num between 1 to 50 is  650\n"
          ]
        }
      ]
    },
    {
      "cell_type": "code",
      "source": [
        "#  14. Write a program to reverse a string using a while loop.\n",
        "text = input(\"Enter a string: \")\n",
        "reversed_text = \"\"\n",
        "i = len(text) - 1\n",
        "while i >= 0:\n",
        "    reversed_text += text[i]\n",
        "    i -= 1\n",
        "print(\"Reversed string:\", reversed_text)\n"
      ],
      "metadata": {
        "id": "d0k3hR5kbYZ-"
      },
      "execution_count": null,
      "outputs": []
    },
    {
      "cell_type": "code",
      "source": [
        "# 15. Write a Python program to calculate the factorial of a number provided by the user using a while loop\n",
        "\n",
        "\n",
        "num = int(input(\"Enter a number: \"))\n",
        "factorial = 1\n",
        "i = 1\n",
        "\n",
        "if num < 0:\n",
        "    print(\"Factorial is not defined for negative numbers.\")\n",
        "else:\n",
        "    while i <= num:\n",
        "        factorial *= i\n",
        "        i += 1\n",
        "    print(\"The factorial of\", num, \"is:\", factorial)\n"
      ],
      "metadata": {
        "colab": {
          "base_uri": "https://localhost:8080/"
        },
        "id": "pmsbiPZXb8gb",
        "outputId": "c4dd1f60-efab-4259-8b57-195b43921af1"
      },
      "execution_count": 27,
      "outputs": [
        {
          "output_type": "stream",
          "name": "stdout",
          "text": [
            "Enter a number: 3\n",
            "The factorial of 3 is: 6\n"
          ]
        }
      ]
    }
  ]
}